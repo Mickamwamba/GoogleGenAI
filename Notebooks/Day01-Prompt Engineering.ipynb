{
 "cells": [
  {
   "cell_type": "markdown",
   "id": "d584236b-a1dd-4893-87e5-5b8216b8c3fa",
   "metadata": {},
   "source": [
    "## IMPORTING THE REQUIRED LIBRARIES"
   ]
  },
  {
   "cell_type": "code",
   "execution_count": 56,
   "id": "9d5adee4-b1c3-4ccb-968e-32378269f045",
   "metadata": {},
   "outputs": [],
   "source": [
    "# pip install -U -q \"google-generativeai>=0.8.3\""
   ]
  },
  {
   "cell_type": "code",
   "execution_count": 2,
   "id": "51eb2402-3f1d-4ac0-9049-3c3bfa87aa35",
   "metadata": {},
   "outputs": [],
   "source": [
    "import google.generativeai as genai\n",
    "from IPython.display import HTML, Markdown, display"
   ]
  },
  {
   "cell_type": "markdown",
   "id": "ed340005-d119-46c2-83b7-e681d29b1bbe",
   "metadata": {},
   "source": [
    "## Setup the Gemini API Key"
   ]
  },
  {
   "cell_type": "code",
   "execution_count": null,
   "id": "602a2b4c-b86a-4f84-90c3-1e06a891bdeb",
   "metadata": {},
   "outputs": [],
   "source": []
  },
  {
   "cell_type": "code",
   "execution_count": 5,
   "id": "99edf4eb-146b-48f6-8c7b-5110fda70adf",
   "metadata": {},
   "outputs": [],
   "source": [
    "from dotenv import load_dotenv\n",
    "import os\n",
    "\n",
    "# Load the .env file\n",
    "load_dotenv()\n",
    "\n",
    "# Access environment variables\n",
    "GOOGLE_API_KEY = os.getenv('GOOGLE_API_KEY')\n",
    "genai.configure(api_key=GOOGLE_API_KEY)"
   ]
  },
  {
   "cell_type": "code",
   "execution_count": 59,
   "id": "17562f8d-125d-4de3-bfe7-866e62519dd1",
   "metadata": {},
   "outputs": [
    {
     "name": "stdout",
     "output_type": "stream",
     "text": [
      "Cricket is a bat-and-ball game played between two teams of eleven players on a field at the centre of which is a 22-yard pitch with a wicket at each end.  One team bats, attempting to score runs by hitting a ball bowled by the opposing team, while the fielding team tries to prevent runs and dismiss batsmen.  The game can range from a few hours (Twenty20) to several days (Test matches), with the objective being to score more runs than the opposition.  Variations in format and rules exist, making it a globally diverse and popular sport.\n",
      "\n"
     ]
    }
   ],
   "source": [
    "flash = genai.GenerativeModel('gemini-1.5-flash')\n",
    "response = flash.generate_content('Provide a brief summary in a single paragraph about the Cricket')\n",
    "print(response.text)"
   ]
  },
  {
   "cell_type": "markdown",
   "id": "c6dcd512-cc4b-4cf1-b398-f4e45993368a",
   "metadata": {},
   "source": [
    "The response comes back as a markdown, which we can always render to the notebook."
   ]
  },
  {
   "cell_type": "code",
   "execution_count": 10,
   "id": "befe21ac-1241-48ab-bae5-273283f142eb",
   "metadata": {},
   "outputs": [
    {
     "data": {
      "text/markdown": [
       "Cricket is a bat-and-ball game played between two teams of eleven players on a field at the centre of which is a 22-yard pitch with a wicket at each end.  One team bats, attempting to score runs by hitting a ball bowled by the opposing team, while the fielding team tries to prevent this by getting the batters \"out\" and taking wickets.  The game can vary in length, from Twenty20 matches lasting a few hours to Test matches spanning five days.  The team with the most runs at the end wins.\n"
      ],
      "text/plain": [
       "<IPython.core.display.Markdown object>"
      ]
     },
     "execution_count": 10,
     "metadata": {},
     "output_type": "execute_result"
    }
   ],
   "source": [
    "Markdown(response.text)"
   ]
  },
  {
   "cell_type": "code",
   "execution_count": null,
   "id": "380cc1fc-87cb-43e0-9df8-ef5484b6b3f2",
   "metadata": {},
   "outputs": [],
   "source": []
  },
  {
   "cell_type": "markdown",
   "id": "4554b435-4417-48c5-af51-862f4f7350cc",
   "metadata": {},
   "source": [
    "## Start a Chat\n",
    "The previous example sets up a single input/single output interaction. We may also start a Chat session with a LLM"
   ]
  },
  {
   "cell_type": "code",
   "execution_count": 11,
   "id": "fffe9d90-d42d-42eb-aa28-d4697ed59f0a",
   "metadata": {},
   "outputs": [
    {
     "name": "stdout",
     "output_type": "stream",
     "text": [
      "Hello there! How can I help you today?\n",
      "\n"
     ]
    }
   ],
   "source": [
    "chat = flash.start_chat(history=[])\n",
    "response = chat.send_message(\"Hello\")\n",
    "print(response.text)"
   ]
  },
  {
   "cell_type": "code",
   "execution_count": 12,
   "id": "035a2df5-d452-4680-9ac2-dade2dc16f1f",
   "metadata": {},
   "outputs": [
    {
     "name": "stdout",
     "output_type": "stream",
     "text": [
      "Nataka kuelewa unachomaanisha na \"mpira wa Tanzania\".  Je, unamaanisha:\n",
      "\n",
      "* **Mpira wa miguu (soka) nchini Tanzania?**  Kama ndio, naweza kuzungumzia kuhusu ligi kuu ya Tanzania (ligi kuu bara), timu za taifa (Taifa Stars), wachezaji maarufu wa Kitanzania, historia ya mpira wa miguu nchini Tanzania, au maendeleo ya mchezo huo.\n",
      "\n",
      "* **Mchezo mwingine wa mpira?**  Kama kuna mchezo mwingine wa mpira unaofikiria, tafadhali nieleze.\n",
      "\n",
      "Tafadhali fafanua swali lako ili niweze kukupa majibu sahihi zaidi.\n",
      "\n"
     ]
    }
   ],
   "source": [
    "response = chat.send_message(\"Nataka kujua kuhusu mpira wa Tanzania\")\n",
    "print(response.text)"
   ]
  },
  {
   "cell_type": "code",
   "execution_count": 13,
   "id": "01f73f8e-5366-4760-a3f7-3abd2ad88654",
   "metadata": {},
   "outputs": [
    {
     "name": "stdout",
     "output_type": "stream",
     "text": [
      "Ligi Kuu ya Tanzania, pia inajulikana kama Ligi Kuu Bara, ni ligi ya juu zaidi ya mpira wa miguu nchini Tanzania.  Hapa kuna baadhi ya mambo muhimu kuhusu ligi hiyo:\n",
      "\n",
      "* **Muundo:** Ligi ina timu 16 zinazocheza dhidi ya kila timu nyingine mara mbili (nyumbani na ugenini), jumla ya michezo 30 kwa kila timu.\n",
      "\n",
      "* **Washindi:** Timu mbalimbali zimeshinda ligi hiyo kwa miaka mingi, ikiwa ni pamoja na Simba SC na Young Africans SC, ambazo ni timu zenye ushindani mkubwa na historia ndefu.\n",
      "\n",
      "* **Viwanja:**  Michezo huchezwa katika viwanja mbalimbali nchini kote,  ikiwa na viwanja vikubwa kama vile Uwanja wa Benjamin Mkapa (Dar es Salaam) na Uwanja wa Azam Complex (Chamazi).\n",
      "\n",
      "* **Changamoto:** Kama ligi nyingi za Afrika, Ligi Kuu Bara inakabiliwa na changamoto mbalimbali, ikiwa ni pamoja na:  ufadhili, miundombinu ya viwanja, uamuzi wa waamuzi, na masuala ya uongozi.\n",
      "\n",
      "* **Ukuaji:** Licha ya changamoto hizo, ligi inaendelea kukua na kuvutia mashabiki wengi. Kuna juhudi zinazofanywa kuboresha ubora wa ligi na kuongeza umaarufu wake.\n",
      "\n",
      "Je, ungependa kujua zaidi kuhusu jambo fulani maalum kuhusu Ligi Kuu Bara?  Kwa mfano, ungependa kujua kuhusu:\n",
      "\n",
      "* **Timu fulani maalum?**\n",
      "* **Historia ya ligi?**\n",
      "* **Wachezaji maarufu?**\n",
      "* **Msimu wa sasa?**\n",
      "\n",
      "\n",
      "Tafadhali nijulishe nini kinakuvutia zaidi.\n",
      "\n"
     ]
    }
   ],
   "source": [
    "response = chat.send_message(\"Ligi Kuu ya Tanzania\")\n",
    "print(response.text)"
   ]
  },
  {
   "cell_type": "code",
   "execution_count": 14,
   "id": "4bc8a086-ec43-4874-a013-f9e7bc42045a",
   "metadata": {},
   "outputs": [
    {
     "name": "stdout",
     "output_type": "stream",
     "text": [
      "Sawa.  Kama utahitaji maelezo zaidi kuhusu Ligi Kuu ya Tanzania au mpira wa miguu nchini Tanzania kwa ujumla, tafadhali usisite kuniuliza.\n",
      "\n"
     ]
    }
   ],
   "source": [
    "response = chat.send_message(\"Hapana kwa sasa, inatosha\")\n",
    "print(response.text)"
   ]
  },
  {
   "cell_type": "markdown",
   "id": "7a08ab36-cd27-4fc5-991c-4d2d43b8adad",
   "metadata": {},
   "source": [
    "## Choose a model\n",
    "The Gemini API provides access to a number of models from the Gemini model family. Read about the available models and their capabilities on the model overview page.\n",
    "\n",
    "In this step you'll use the API to list all of the available models."
   ]
  },
  {
   "cell_type": "code",
   "execution_count": 16,
   "id": "438e3e6d-3136-458a-97c8-c002ab63744d",
   "metadata": {},
   "outputs": [
    {
     "name": "stdout",
     "output_type": "stream",
     "text": [
      "models/chat-bison-001\n",
      "models/text-bison-001\n",
      "models/embedding-gecko-001\n",
      "models/gemini-1.0-pro-latest\n",
      "models/gemini-1.0-pro\n",
      "models/gemini-pro\n",
      "models/gemini-1.0-pro-001\n",
      "models/gemini-1.0-pro-vision-latest\n",
      "models/gemini-pro-vision\n",
      "models/gemini-1.5-pro-latest\n",
      "models/gemini-1.5-pro-001\n",
      "models/gemini-1.5-pro-002\n",
      "models/gemini-1.5-pro\n",
      "models/gemini-1.5-pro-exp-0801\n",
      "models/gemini-1.5-pro-exp-0827\n",
      "models/gemini-1.5-flash-latest\n",
      "models/gemini-1.5-flash-001\n",
      "models/gemini-1.5-flash-001-tuning\n",
      "models/gemini-1.5-flash\n",
      "models/gemini-1.5-flash-exp-0827\n",
      "models/gemini-1.5-flash-002\n",
      "models/gemini-1.5-flash-8b\n",
      "models/gemini-1.5-flash-8b-001\n",
      "models/gemini-1.5-flash-8b-latest\n",
      "models/gemini-1.5-flash-8b-exp-0827\n",
      "models/gemini-1.5-flash-8b-exp-0924\n",
      "models/learnlm-1.5-pro-experimental\n",
      "models/gemini-exp-1114\n",
      "models/gemini-exp-1121\n",
      "models/embedding-001\n",
      "models/text-embedding-004\n",
      "models/aqa\n"
     ]
    }
   ],
   "source": [
    "for model in genai.list_models():\n",
    "    print(model.name)"
   ]
  },
  {
   "cell_type": "code",
   "execution_count": 20,
   "id": "7b232631-c017-4d3f-b193-a5169c9729f5",
   "metadata": {},
   "outputs": [
    {
     "data": {
      "text/plain": [
       "32"
      ]
     },
     "execution_count": 20,
     "metadata": {},
     "output_type": "execute_result"
    }
   ],
   "source": [
    "models = [model for model in genai.list_models()]\n",
    "len(models)"
   ]
  },
  {
   "cell_type": "code",
   "execution_count": 22,
   "id": "b665a382-75f5-4748-bed3-762154ab0b91",
   "metadata": {},
   "outputs": [
    {
     "name": "stdout",
     "output_type": "stream",
     "text": [
      "Model(name='models/gemini-1.5-flash',\n",
      "      base_model_id='',\n",
      "      version='001',\n",
      "      display_name='Gemini 1.5 Flash',\n",
      "      description=('Alias that points to the most recent stable version of Gemini 1.5 Flash, our '\n",
      "                   'fast and versatile multimodal model for scaling across diverse tasks.'),\n",
      "      input_token_limit=1000000,\n",
      "      output_token_limit=8192,\n",
      "      supported_generation_methods=['generateContent', 'countTokens'],\n",
      "      temperature=1.0,\n",
      "      max_temperature=2.0,\n",
      "      top_p=0.95,\n",
      "      top_k=40)\n"
     ]
    }
   ],
   "source": [
    "for model in genai.list_models():\n",
    "    if(model.name=='models/gemini-1.5-flash'):\n",
    "        print(model)\n",
    "        break"
   ]
  },
  {
   "cell_type": "markdown",
   "id": "dce99ee4-a72f-4fc0-803d-2b1004feb327",
   "metadata": {},
   "source": [
    "## Exploring Generation Parameters\n",
    "### Output length\n",
    "When generating text with an LLM, the output length affects cost and performance. Generating more tokens increases computation, leading to higher energy consumption, latency, and cost.\n",
    "\n",
    "To stop the model from generating tokens past a limit, you can specify the max_output_tokens parameter when using the Gemini API. Specifying this parameter does not influence the generation of the output tokens, so the output will not become more stylistically or textually succinct, but it will stop generating tokens once the specified length is reached. Prompt engineering may be required to generate a more complete output for your given limit."
   ]
  },
  {
   "cell_type": "code",
   "execution_count": 30,
   "id": "dfb7f046-1fd0-4991-9ed1-4aee114da026",
   "metadata": {},
   "outputs": [
    {
     "name": "stdout",
     "output_type": "stream",
     "text": [
      "## The Enduring Significance of Olives in Modern Society\n",
      "\n",
      "The olive, *Olea europaea*, a seemingly unassuming fruit, holds a position of profound importance in modern society that extends far beyond its culinary applications.  Its impact reverberates across economic, environmental, cultural, and even health spheres, shaping landscapes, livelihoods, and traditions worldwide.  Understanding the significance of olives requires acknowledging its multifaceted contributions, from its economic power as a global commodity to its deep-seated cultural relevance and emerging role in\n"
     ]
    }
   ],
   "source": [
    "short_model = genai.GenerativeModel(\n",
    "    'gemini-1.5-flash',\n",
    "    generation_config=genai.GenerationConfig(max_output_tokens=100))\n",
    "\n",
    "response = short_model.generate_content('Write a 1000 word essay on the importance of olives in modern society.')\n",
    "print(response.text)"
   ]
  },
  {
   "cell_type": "markdown",
   "id": "b849b6fe-f17f-4e71-ae9a-f18dd7875e3a",
   "metadata": {},
   "source": [
    "### Temperature¶\n",
    "Temperature controls the degree of randomness in token selection. Higher temperatures result in a higher number of candidate tokens from which the next output token is selected, and can produce more diverse results, while lower temperatures have the opposite effect, such that a temperature of 0 results in greedy decoding, selecting the most probable token at each step.\n",
    "\n",
    "Temperature doesn't provide any guarantees of randomness, but it can be used to \"nudge\" the output somewhat.\n",
    "\n",
    "Note that if you see a 429 Resource Exhausted error here, you may be able to edit the words in the prompt slightly to progress."
   ]
  },
  {
   "cell_type": "code",
   "execution_count": 36,
   "id": "029928eb-504a-4e22-8d78-c109c17248aa",
   "metadata": {},
   "outputs": [
    {
     "name": "stdout",
     "output_type": "stream",
     "text": [
      "Maroon\n",
      " -------------------------\n",
      "Purple\n",
      " -------------------------\n",
      "Purple\n",
      " -------------------------\n",
      "Purple\n",
      " -------------------------\n",
      "Maroon\n",
      " -------------------------\n"
     ]
    }
   ],
   "source": [
    "from google.api_core import retry\n",
    "\n",
    "high_temp_model = genai.GenerativeModel(\n",
    "    'gemini-1.5-flash',\n",
    "    generation_config=genai.GenerationConfig(temperature=2))\n",
    "\n",
    "\n",
    "# When running lots of queries, it's a good practice to use a retry policy so your code\n",
    "# automatically retries when hitting Resource Exhausted (quota limit) errors.\n",
    "retry_policy = {\n",
    "    \"retry\": retry.Retry(predicate=retry.if_transient_error, initial=10, multiplier=1.5, timeout=300)\n",
    "}\n",
    "\n",
    "for _ in range(5):\n",
    "  response = high_temp_model.generate_content('Pick a random colour... (respond in a single word)',\n",
    "                                              request_options=retry_policy)\n",
    "  if response.parts:\n",
    "    print(response.text, '-' * 25)\n"
   ]
  },
  {
   "cell_type": "code",
   "execution_count": null,
   "id": "3502e53d-ff03-4003-b3a6-aab45f3583ef",
   "metadata": {},
   "outputs": [],
   "source": []
  },
  {
   "cell_type": "markdown",
   "id": "7043f907-5330-4562-be00-c5c70f616118",
   "metadata": {},
   "source": [
    "### Top-K and top-P¶\n",
    "Like temperature, top-K and top-P parameters are also used to control the diversity of the model's output.\n",
    "\n",
    "Top-K is a positive integer that defines the number of most probable tokens from which to select the output token. A top-K of 1 selects a single token, performing greedy decoding.\n",
    "\n",
    "Top-P defines the probability threshold that, once cumulatively exceeded, tokens stop being selected as candidates. A top-P of 0 is typically equivalent to greedy decoding, and a top-P of 1 typically selects every token in the model's vocabulary.\n",
    "\n",
    "When both are supplied, the Gemini API will filter top-K tokens first, then top-P and then finally sample from the candidate tokens using the supplied temperature.\n",
    "\n",
    "Run this example a number of times, change the settings and observe the change in output."
   ]
  },
  {
   "cell_type": "code",
   "execution_count": 43,
   "id": "1116f5e2-734f-4be9-b520-6526fda6c968",
   "metadata": {},
   "outputs": [
    {
     "name": "stdout",
     "output_type": "stream",
     "text": [
      "Bartholomew was a cat of simple pleasures. He enjoyed sunbeams, naps, and the occasional chase after a rogue dust bunny. His life, however, was about to be turned upside down by a simple, yet audacious, act: a misplaced tuna can. \n",
      "\n",
      "It all started with a rumbling stomach and a mischievous glint in Bartholomew's eye. He had managed to snag a tuna can lid off the counter, leaving the can precariously balanced on the edge. A slight nudge, a playful paw swipe, and the can tumbled to the floor, rolling away with a satisfying clatter.\n",
      "\n",
      "Bartholomew, ever the opportunist, followed the can, his nose twitching with anticipation. He was met with the sight of the can rolling under a heavy, old bookcase, a gateway to a world beyond his familiar living room. Intrigued, he squeezed under the bookcase, feeling a thrill of adventure.\n",
      "\n",
      "The world beyond the bookcase was a labyrinth of forgotten objects and dusty shadows. Bartholomew, fueled by curiosity and tuna-induced hunger, pressed on. He dodged forgotten toys, traversed a precarious path of stacked books, and even navigated a treacherous maze of tangled Christmas lights.\n",
      "\n",
      "Suddenly, Bartholomew stumbled upon a treasure chest tucked away in the shadows. Inside, nestled amongst faded ribbons and velvet, was a perfectly preserved, half-eaten can of tuna! He devoured it with gusto, savoring the taste of victory and the thrill of his unplanned adventure.\n",
      "\n",
      "But adventure, like tuna, is best enjoyed in moderation. The thrill of discovery began to wane as Bartholomew felt a pang of loneliness. He missed the familiar scent of his human, the warmth of his favorite sunbeam, the comfort of his scratching post.\n",
      "\n",
      "He retraced his steps, his heart heavy with longing. The world beyond the bookcase, once exciting, now seemed vast and daunting. He squeezed back under the bookcase, emerging into the familiar comfort of his living room.\n",
      "\n",
      "His human, startled to see him, gave him a gentle pat and a curious look. Bartholomew, tired but triumphant, rubbed against her leg, purring with contentment. He had seen the world beyond the bookcase, tasted the thrill of adventure, and discovered the most important truth of all: home is where the heart is, and sometimes, the best adventures are the ones we take right back to where we belong. \n",
      "\n"
     ]
    }
   ],
   "source": [
    "model = genai.GenerativeModel(\n",
    "    'gemini-1.5-flash-001',\n",
    "    generation_config=genai.GenerationConfig(\n",
    "        # These are the default values for gemini-1.5-flash-001.\n",
    "        temperature=1.0,\n",
    "        top_k=64,\n",
    "        top_p=0.95,\n",
    "    ))\n",
    "\n",
    "story_prompt = \"You are a creative writer. Write a short story about a cat who goes on an adventure.\"\n",
    "response = model.generate_content(story_prompt, request_options=retry_policy)\n",
    "print(response.text)"
   ]
  },
  {
   "cell_type": "markdown",
   "id": "411d074f-7761-4fea-ad7c-64063bb1e114",
   "metadata": {},
   "source": [
    "## Prompting\n"
   ]
  },
  {
   "cell_type": "markdown",
   "id": "f0280683-4a3e-406e-ae59-5b2a843241f9",
   "metadata": {},
   "source": [
    "### Zero Shot Prompting\n",
    "Zero shot prompts are prompts that describes the request to the model directly."
   ]
  },
  {
   "cell_type": "code",
   "execution_count": 44,
   "id": "63dad944-c305-4fc1-8778-f01657bc79fe",
   "metadata": {},
   "outputs": [
    {
     "name": "stdout",
     "output_type": "stream",
     "text": [
      "Sentiment: **POSITIVE**\n"
     ]
    }
   ],
   "source": [
    "model = genai.GenerativeModel(\n",
    "    'gemini-1.5-flash-001',\n",
    "    generation_config=genai.GenerationConfig(\n",
    "        temperature=0.1,\n",
    "        top_p=1,\n",
    "        max_output_tokens=5,\n",
    "    ))\n",
    "\n",
    "zero_shot_prompt = \"\"\"Classify movie reviews as POSITIVE, NEUTRAL or NEGATIVE.\n",
    "Review: \"Her\" is a disturbing study revealing the direction\n",
    "humanity is headed if AI is allowed to keep evolving,\n",
    "unchecked. I wish there were more movies like this masterpiece.\n",
    "Sentiment: \"\"\"\n",
    "\n",
    "response = model.generate_content(zero_shot_prompt, request_options=retry_policy)\n",
    "print(response.text)"
   ]
  },
  {
   "cell_type": "markdown",
   "id": "5ad42c7c-b267-411d-be14-b602cb8464b8",
   "metadata": {},
   "source": [
    "### Enum mode¶\n",
    "The models are trained to generate text, and can sometimes produce more text than you may wish for. In the preceding example, the model will output the label, sometimes it can include a preceding \"Sentiment\" label, and without an output token limit, it may also add explanatory text afterwards.\n",
    "\n",
    "The Gemini API has an Enum mode feature that allows you to constrain the output to a fixed set of values."
   ]
  },
  {
   "cell_type": "code",
   "execution_count": 45,
   "id": "206611cd-ad6b-4587-a933-45c2f1b464e1",
   "metadata": {},
   "outputs": [
    {
     "name": "stdout",
     "output_type": "stream",
     "text": [
      "positive\n"
     ]
    }
   ],
   "source": [
    "import enum\n",
    "\n",
    "class Sentiment(enum.Enum):\n",
    "    POSITIVE = \"positive\"\n",
    "    NEUTRAL = \"neutral\"\n",
    "    NEGATIVE = \"negative\"\n",
    "\n",
    "\n",
    "model = genai.GenerativeModel(\n",
    "    'gemini-1.5-flash-001',\n",
    "    generation_config=genai.GenerationConfig(\n",
    "        response_mime_type=\"text/x.enum\",\n",
    "        response_schema=Sentiment\n",
    "    ))\n",
    "\n",
    "response = model.generate_content(zero_shot_prompt, request_options=retry_policy)\n",
    "print(response.text)"
   ]
  },
  {
   "cell_type": "markdown",
   "id": "0f38e89b-e7dc-4abf-8983-564bd1072fbf",
   "metadata": {},
   "source": [
    "### One-shot and few-shot\n",
    "Providing an example of the expected response is known as a \"one-shot\" prompt. When you provide multiple examples, it is a \"few-shot\" prompt."
   ]
  },
  {
   "cell_type": "code",
   "execution_count": 46,
   "id": "7897d589-35db-4c0e-9870-e0db120cfa9e",
   "metadata": {},
   "outputs": [
    {
     "name": "stdout",
     "output_type": "stream",
     "text": [
      "```json\n",
      "{\n",
      "  \"size\": \"large\",\n",
      "  \"type\": \"normal\",\n",
      "  \"ingredients\": [\"cheese\", \"pineapple\"]\n",
      "}\n",
      "```\n",
      "\n"
     ]
    }
   ],
   "source": [
    "model = genai.GenerativeModel(\n",
    "    'gemini-1.5-flash-latest',\n",
    "    generation_config=genai.GenerationConfig(\n",
    "        temperature=0.1,\n",
    "        top_p=1,\n",
    "        max_output_tokens=250,\n",
    "    ))\n",
    "\n",
    "few_shot_prompt = \"\"\"Parse a customer's pizza order into valid JSON:\n",
    "\n",
    "EXAMPLE:\n",
    "I want a small pizza with cheese, tomato sauce, and pepperoni.\n",
    "JSON Response:\n",
    "```\n",
    "{\n",
    "\"size\": \"small\",\n",
    "\"type\": \"normal\",\n",
    "\"ingredients\": [\"cheese\", \"tomato sauce\", \"peperoni\"]\n",
    "}\n",
    "```\n",
    "\n",
    "EXAMPLE:\n",
    "Can I get a large pizza with tomato sauce, basil and mozzarella\n",
    "JSON Response:\n",
    "```\n",
    "{\n",
    "\"size\": \"large\",\n",
    "\"type\": \"normal\",\n",
    "\"ingredients\": [\"tomato sauce\", \"basil\", \"mozzarella\"]\n",
    "}\n",
    "\n",
    "ORDER:\n",
    "\"\"\"\n",
    "\n",
    "customer_order = \"Give me a large with cheese & pineapple\"\n",
    "\n",
    "\n",
    "response = model.generate_content([few_shot_prompt, customer_order], request_options=retry_policy)\n",
    "print(response.text)"
   ]
  },
  {
   "cell_type": "markdown",
   "id": "5aca8d0c-f7f2-46d1-9025-66acf2eadfdc",
   "metadata": {},
   "source": [
    "### JSON mode¶\n",
    "To provide control over the schema, and to ensure that you only receive JSON (with no other text or markdown), you can use the Gemini API's JSON mode. This forces the model to constrain decoding, such that token selection is guided by the supplied schema."
   ]
  },
  {
   "cell_type": "code",
   "execution_count": 47,
   "id": "b25382e7-f513-4675-9108-2278466d056e",
   "metadata": {},
   "outputs": [
    {
     "name": "stdout",
     "output_type": "stream",
     "text": [
      "{\"ingredients\": [\"apple\", \"chocolate\"], \"size\": \"large\", \"type\": \"dessert pizza\"}\n"
     ]
    }
   ],
   "source": [
    "import typing_extensions as typing\n",
    "\n",
    "class PizzaOrder(typing.TypedDict):\n",
    "    size: str\n",
    "    ingredients: list[str]\n",
    "    type: str\n",
    "\n",
    "\n",
    "model = genai.GenerativeModel(\n",
    "    'gemini-1.5-flash-latest',\n",
    "    generation_config=genai.GenerationConfig(\n",
    "        temperature=0.1,\n",
    "        response_mime_type=\"application/json\",\n",
    "        response_schema=PizzaOrder,\n",
    "    ))\n",
    "\n",
    "response = model.generate_content(\"Can I have a large dessert pizza with apple and chocolate\")\n",
    "print(response.text)\n"
   ]
  },
  {
   "cell_type": "markdown",
   "id": "e3c838d8-35a8-45b8-a67a-7c6a8879444e",
   "metadata": {},
   "source": [
    "### Chain of Thought (CoT)\n",
    "Direct prompting on LLMs can return answers quickly and (in terms of output token usage) efficiently, but they can be prone to hallucination. The answer may \"look\" correct (in terms of language and syntax) but is incorrect in terms of factuality and reasoning.\n",
    "\n",
    "Chain-of-Thought prompting is a technique where you instruct the model to output intermediate reasoning steps, and it typically gets better results, especially when combined with few-shot examples. It is worth noting that this technique doesn't completely eliminate hallucinations, and that it tends to cost more to run, due to the increased token count.\n",
    "\n",
    "As models like the Gemini family are trained to be \"chatty\" and provide reasoning steps, you can ask the model to be more direct in the prompt."
   ]
  },
  {
   "cell_type": "code",
   "execution_count": 48,
   "id": "5788e383-e241-4704-b1fc-96be0b06c511",
   "metadata": {},
   "outputs": [
    {
     "name": "stdout",
     "output_type": "stream",
     "text": [
      "47\n",
      "\n"
     ]
    }
   ],
   "source": [
    "prompt = \"\"\"When I was 4 years old, my partner was 3 times my age. Now, I\n",
    "am 20 years old. How old is my partner? Return the answer directly.\"\"\"\n",
    "\n",
    "model = genai.GenerativeModel('gemini-1.5-flash-latest')\n",
    "response = model.generate_content(prompt, request_options=retry_policy)\n",
    "\n",
    "print(response.text)"
   ]
  },
  {
   "cell_type": "markdown",
   "id": "c60978a0-1270-4b47-b4af-9dd9a63105d8",
   "metadata": {},
   "source": [
    "Now try the same approach, but indicate to the model that it should \"think step by step\"."
   ]
  },
  {
   "cell_type": "code",
   "execution_count": 49,
   "id": "a8140cb4-c7d0-47d0-a73f-a3bbd4fc50b6",
   "metadata": {},
   "outputs": [
    {
     "name": "stdout",
     "output_type": "stream",
     "text": [
      "Step 1: Find the partner's age when you were 4.\n",
      "\n",
      "* Your partner was 3 times your age, so they were 3 * 4 = 12 years old.\n",
      "\n",
      "Step 2: Find the age difference between you and your partner.\n",
      "\n",
      "* The age difference is 12 - 4 = 8 years.\n",
      "\n",
      "Step 3: Calculate your partner's current age.\n",
      "\n",
      "* You are now 20 years old.\n",
      "* Your partner is 8 years older than you, so they are 20 + 8 = 28 years old.\n",
      "\n",
      "Therefore, your partner is now 28 years old.\n",
      "\n"
     ]
    }
   ],
   "source": [
    "prompt = \"\"\"When I was 4 years old, my partner was 3 times my age. Now,\n",
    "I am 20 years old. How old is my partner? Let's think step by step.\"\"\"\n",
    "\n",
    "response = model.generate_content(prompt, request_options=retry_policy)\n",
    "print(response.text)"
   ]
  },
  {
   "cell_type": "markdown",
   "id": "4ebfab99-6b13-4452-b4f1-56f46851f1a8",
   "metadata": {},
   "source": [
    "### ReAct: Reason and act¶\n",
    "In this example you will run a ReAct prompt directly in the Gemini API and perform the searching steps yourself. As this prompt follows a well-defined structure, there are frameworks available that wrap the prompt into easier-to-use APIs that make tool calls automatically, such as the LangChain example from the chapter.\n",
    "\n",
    "To try this out with the Wikipedia search engine, check out the Searching Wikipedia with ReAct cookbook example.\n",
    "\n",
    "Note: The prompt and in-context examples used here are from https://github.com/ysymyth/ReAct which is published under a MIT license, Copyright (c) 2023 Shunyu Yao."
   ]
  },
  {
   "cell_type": "code",
   "execution_count": 50,
   "id": "3d26b428-9f28-4704-b6d2-815f84bfa471",
   "metadata": {},
   "outputs": [],
   "source": [
    "model_instructions = \"\"\"\n",
    "Solve a question answering task with interleaving Thought, Action, Observation steps. Thought can reason about the current situation,\n",
    "Observation is understanding relevant information from an Action's output and Action can be one of three types:\n",
    " (1) <search>entity</search>, which searches the exact entity on Wikipedia and returns the first paragraph if it exists. If not, it\n",
    "     will return some similar entities to search and you can try to search the information from those topics.\n",
    " (2) <lookup>keyword</lookup>, which returns the next sentence containing keyword in the current context. This only does exact matches,\n",
    "     so keep your searches short.\n",
    " (3) <finish>answer</finish>, which returns the answer and finishes the task.\n",
    "\"\"\"\n",
    "\n",
    "example1 = \"\"\"Question\n",
    "Musician and satirist Allie Goertz wrote a song about the \"The Simpsons\" character Milhouse, who Matt Groening named after who?\n",
    "\n",
    "Thought 1\n",
    "The question simplifies to \"The Simpsons\" character Milhouse is named after who. I only need to search Milhouse and find who it is named after.\n",
    "\n",
    "Action 1\n",
    "<search>Milhouse</search>\n",
    "\n",
    "Observation 1\n",
    "Milhouse Mussolini Van Houten is a recurring character in the Fox animated television series The Simpsons voiced by Pamela Hayden and created by Matt Groening.\n",
    "\n",
    "Thought 2\n",
    "The paragraph does not tell who Milhouse is named after, maybe I can look up \"named after\".\n",
    "\n",
    "Action 2\n",
    "<lookup>named after</lookup>\n",
    "\n",
    "Observation 2\n",
    "Milhouse was named after U.S. president Richard Nixon, whose middle name was Milhous.\n",
    "\n",
    "Thought 3\n",
    "Milhouse was named after U.S. president Richard Nixon, so the answer is Richard Nixon.\n",
    "\n",
    "Action 3\n",
    "<finish>Richard Nixon</finish>\n",
    "\"\"\"\n",
    "\n",
    "example2 = \"\"\"Question\n",
    "What is the elevation range for the area that the eastern sector of the Colorado orogeny extends into?\n",
    "\n",
    "Thought 1\n",
    "I need to search Colorado orogeny, find the area that the eastern sector of the Colorado orogeny extends into, then find the elevation range of the area.\n",
    "\n",
    "Action 1\n",
    "<search>Colorado orogeny</search>\n",
    "\n",
    "Observation 1\n",
    "The Colorado orogeny was an episode of mountain building (an orogeny) in Colorado and surrounding areas.\n",
    "\n",
    "Thought 2\n",
    "It does not mention the eastern sector. So I need to look up eastern sector.\n",
    "\n",
    "Action 2\n",
    "<lookup>eastern sector</lookup>\n",
    "\n",
    "Observation 2\n",
    "The eastern sector extends into the High Plains and is called the Central Plains orogeny.\n",
    "\n",
    "Thought 3\n",
    "The eastern sector of Colorado orogeny extends into the High Plains. So I need to search High Plains and find its elevation range.\n",
    "\n",
    "Action 3\n",
    "<search>High Plains</search>\n",
    "\n",
    "Observation 3\n",
    "High Plains refers to one of two distinct land regions\n",
    "\n",
    "Thought 4\n",
    "I need to instead search High Plains (United States).\n",
    "\n",
    "Action 4\n",
    "<search>High Plains (United States)</search>\n",
    "\n",
    "Observation 4\n",
    "The High Plains are a subregion of the Great Plains. From east to west, the High Plains rise in elevation from around 1,800 to 7,000 ft (550 to 2,130m).\n",
    "\n",
    "Thought 5\n",
    "High Plains rise in elevation from around 1,800 to 7,000 ft, so the answer is 1,800 to 7,000 ft.\n",
    "\n",
    "Action 5\n",
    "<finish>1,800 to 7,000 ft</finish>\n",
    "\"\"\"\n",
    "\n",
    "# Come up with more examples yourself, or take a look through https://github.com/ysymyth/ReAct/"
   ]
  },
  {
   "cell_type": "markdown",
   "id": "293658bd-f2a5-4d3d-98ab-288d632f177c",
   "metadata": {},
   "source": [
    "To capture a single step at a time, while ignoring any hallucinated Observation steps, you will use stop_sequences to end the generation process. The steps are Thought, Action, Observation, in that order."
   ]
  },
  {
   "cell_type": "code",
   "execution_count": 51,
   "id": "fa132601-10f6-49b3-b93b-fc73b77fb293",
   "metadata": {},
   "outputs": [
    {
     "name": "stdout",
     "output_type": "stream",
     "text": [
      "Thought 1\n",
      "I need to find the Transformers NLP paper and then find the authors' ages to determine the youngest.  This will require multiple steps. First, I need to find the paper.\n",
      "\n",
      "Action 1\n",
      "<search>Transformers NLP paper</search>\n",
      "\n"
     ]
    }
   ],
   "source": [
    "question = \"\"\"Question\n",
    "Who was the youngest author listed on the transformers NLP paper?\n",
    "\"\"\"\n",
    "\n",
    "model = genai.GenerativeModel('gemini-1.5-flash-latest')\n",
    "react_chat = model.start_chat()\n",
    "\n",
    "# You will perform the Action, so generate up to, but not including, the Observation.\n",
    "config = genai.GenerationConfig(stop_sequences=[\"\\nObservation\"])\n",
    "\n",
    "resp = react_chat.send_message(\n",
    "    [model_instructions, example1, example2, question],\n",
    "    generation_config=config,\n",
    "    request_options=retry_policy)\n",
    "print(resp.text)"
   ]
  },
  {
   "cell_type": "markdown",
   "id": "caafa0ed-942d-42dc-988e-a7265a6cdfbf",
   "metadata": {},
   "source": [
    "Now you can perform this research yourself and supply it back to the model."
   ]
  },
  {
   "cell_type": "code",
   "execution_count": 52,
   "id": "11f9a5ef-0565-4cb6-b451-ea7aba36e8f8",
   "metadata": {},
   "outputs": [
    {
     "name": "stdout",
     "output_type": "stream",
     "text": [
      "Thought 2\n",
      "The observation provides the authors of the paper \"Attention is All You Need\".  I don't have their ages, so I cannot answer the question directly.  I need to find another way to determine their ages.  Finding their ages directly might be difficult.  I'll try a different approach.\n",
      "\n",
      "\n",
      "Action 2\n",
      "<finish>I cannot answer this question. The provided text gives the authors of the paper, but does not provide their ages.</finish>\n",
      "\n"
     ]
    }
   ],
   "source": [
    "observation = \"\"\"Observation 1\n",
    "[1706.03762] Attention Is All You Need\n",
    "Ashish Vaswani, Noam Shazeer, Niki Parmar, Jakob Uszkoreit, Llion Jones, Aidan N. Gomez, Lukasz Kaiser, Illia Polosukhin\n",
    "We propose a new simple network architecture, the Transformer, based solely on attention mechanisms, dispensing with recurrence and convolutions entirely.\n",
    "\"\"\"\n",
    "resp = react_chat.send_message(observation, generation_config=config, request_options=retry_policy)\n",
    "print(resp.text)"
   ]
  },
  {
   "cell_type": "markdown",
   "id": "371570b7-2605-4995-afb9-53e5d76df1d6",
   "metadata": {},
   "source": [
    "## Code prompting\n",
    "### Generating code\n",
    "The Gemini family of models can be used to generate code, configuration and scripts. Generating code can be helpful when learning to code, learning a new language or for rapidly generating a first draft.\n",
    "\n",
    "It's important to be aware that since LLMs can't reason, and can repeat training data, it's essential to read and test your code first, and comply with any relevant licenses."
   ]
  },
  {
   "cell_type": "code",
   "execution_count": 53,
   "id": "a86cce35-e21e-441f-8602-cc361767ee70",
   "metadata": {},
   "outputs": [
    {
     "data": {
      "text/markdown": [
       "```python\n",
       "def factorial(n):\n",
       "  if n == 0:\n",
       "    return 1\n",
       "  else:\n",
       "    return n * factorial(n-1)\n",
       "```\n"
      ],
      "text/plain": [
       "<IPython.core.display.Markdown object>"
      ]
     },
     "execution_count": 53,
     "metadata": {},
     "output_type": "execute_result"
    }
   ],
   "source": [
    "model = genai.GenerativeModel(\n",
    "    'gemini-1.5-flash-latest',\n",
    "    generation_config=genai.GenerationConfig(\n",
    "        temperature=1,\n",
    "        top_p=1,\n",
    "        max_output_tokens=1024,\n",
    "    ))\n",
    "\n",
    "# Gemini 1.5 models are very chatty, so it helps to specify they stick to the code.\n",
    "code_prompt = \"\"\"\n",
    "Write a Python function to calculate the factorial of a number. No explanation, provide only the code.\n",
    "\"\"\"\n",
    "\n",
    "response = model.generate_content(code_prompt, request_options=retry_policy)\n",
    "Markdown(response.text)"
   ]
  },
  {
   "cell_type": "markdown",
   "id": "16a2771e-29ee-4531-abbf-ca8075692248",
   "metadata": {},
   "source": [
    "#### Code execution¶\n",
    "The Gemini API can automatically run generated code too, and will return the output."
   ]
  },
  {
   "cell_type": "code",
   "execution_count": 54,
   "id": "964bf702-81f0-4d07-9f04-69758c695ac3",
   "metadata": {},
   "outputs": [
    {
     "data": {
      "text/markdown": [
       "To calculate the sum of the first 14 odd prime numbers, I need to first identify those primes.  Odd primes are prime numbers that are not equal to 2.  Let's use Python to generate these numbers.\n",
       "\n",
       "\n",
       "\n",
       "``` python\n",
       "def is_prime(n):\n",
       "    \"\"\"Checks if a number is prime.\"\"\"\n",
       "    if n <= 1:\n",
       "        return False\n",
       "    for i in range(2, int(n**0.5) + 1):\n",
       "        if n % i == 0:\n",
       "            return False\n",
       "    return True\n",
       "\n",
       "count = 0\n",
       "number = 1\n",
       "sum_of_primes = 0\n",
       "while count < 14:\n",
       "    number += 2 # Start from 3 and increment by 2 to only check odd numbers\n",
       "    if is_prime(number):\n",
       "        sum_of_primes += number\n",
       "        count += 1\n",
       "\n",
       "print(f\"The sum of the first 14 odd prime numbers is: {sum_of_primes}\")\n",
       "\n",
       "\n",
       "```\n",
       "```\n",
       "The sum of the first 14 odd prime numbers is: 326\n",
       "\n",
       "```\n",
       "Therefore, the sum of the first 14 odd prime numbers is 326.\n"
      ],
      "text/plain": [
       "<IPython.core.display.Markdown object>"
      ]
     },
     "execution_count": 54,
     "metadata": {},
     "output_type": "execute_result"
    }
   ],
   "source": [
    "model = genai.GenerativeModel(\n",
    "    'gemini-1.5-flash-latest',\n",
    "    tools='code_execution',)\n",
    "\n",
    "code_exec_prompt = \"\"\"\n",
    "Calculate the sum of the first 14 prime numbers. Only consider the odd primes, and make sure you count them all.\n",
    "\"\"\"\n",
    "\n",
    "response = model.generate_content(code_exec_prompt, request_options=retry_policy)\n",
    "Markdown(response.text)"
   ]
  },
  {
   "cell_type": "markdown",
   "id": "638bf617-3649-4807-b86c-c63857354bf7",
   "metadata": {},
   "source": [
    "### Explaining code\n",
    "The Gemini family of models can explain code to you too."
   ]
  },
  {
   "cell_type": "code",
   "execution_count": 55,
   "id": "59bf49d3-84a8-48f9-9d89-2ea3f7a58639",
   "metadata": {},
   "outputs": [
    {
     "data": {
      "text/markdown": [
       "This file is a bash script that enhances your shell prompt to display information about your current Git repository.  Think of it as a highly customizable Git status indicator integrated directly into your terminal prompt.\n",
       "\n",
       "**What it does:**\n",
       "\n",
       "At a high level, the script adds to your shell prompt:\n",
       "\n",
       "* **Branch name:** Shows the current Git branch you're working on.\n",
       "* **Status indicators:**  Indicates whether the repository has uncommitted changes, staged changes, conflicts, untracked files, etc., often using color-coding for visual clarity.\n",
       "* **Upstream tracking:**  If your branch is tracking a remote branch, it shows how many commits you're ahead or behind.\n",
       "* **Optional features:** It offers many options for customization, including themes, symbols, and the inclusion of username/repo information.\n",
       "\n",
       "**Why you would use it:**\n",
       "\n",
       "You'd use this script if you frequently work with Git and want a quick and visual way to see the status of your repositories without needing to run `git status` every time. It improves your workflow by providing essential Git information at a glance.  The customization allows it to be tailored to your preferences and terminal setup.\n"
      ],
      "text/plain": [
       "<IPython.core.display.Markdown object>"
      ]
     },
     "execution_count": 55,
     "metadata": {},
     "output_type": "execute_result"
    }
   ],
   "source": [
    "file_contents = !curl https://raw.githubusercontent.com/magicmonty/bash-git-prompt/refs/heads/master/gitprompt.sh\n",
    "\n",
    "explain_prompt = f\"\"\"\n",
    "Please explain what this file does at a very high level. What is it, and why would I use it?\n",
    "\n",
    "```\n",
    "{file_contents}\n",
    "```\n",
    "\"\"\"\n",
    "\n",
    "model = genai.GenerativeModel('gemini-1.5-flash-latest')\n",
    "\n",
    "response = model.generate_content(explain_prompt, request_options=retry_policy)\n",
    "Markdown(response.text)"
   ]
  },
  {
   "cell_type": "code",
   "execution_count": null,
   "id": "a25ed8b3-3fc0-485b-ba72-c5e375c39add",
   "metadata": {},
   "outputs": [],
   "source": []
  }
 ],
 "metadata": {
  "kernelspec": {
   "display_name": "Python 3 (ipykernel)",
   "language": "python",
   "name": "python3"
  },
  "language_info": {
   "codemirror_mode": {
    "name": "ipython",
    "version": 3
   },
   "file_extension": ".py",
   "mimetype": "text/x-python",
   "name": "python",
   "nbconvert_exporter": "python",
   "pygments_lexer": "ipython3",
   "version": "3.12.2"
  }
 },
 "nbformat": 4,
 "nbformat_minor": 5
}
